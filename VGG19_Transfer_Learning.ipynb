{
  "nbformat": 4,
  "nbformat_minor": 0,
  "metadata": {
    "colab": {
      "name": "VGG19_Transfer_Learning.ipynb",
      "provenance": [],
      "collapsed_sections": [],
      "toc_visible": true,
      "include_colab_link": true
    },
    "kernelspec": {
      "name": "python3",
      "display_name": "Python 3"
    },
    "accelerator": "GPU"
  },
  "cells": [
    {
      "cell_type": "markdown",
      "metadata": {
        "id": "view-in-github",
        "colab_type": "text"
      },
      "source": [
        "<a href=\"https://colab.research.google.com/github/Rami-RK/Transfer_Learning_CV/blob/main/VGG19_Transfer_Learning.ipynb\" target=\"_parent\"><img src=\"https://colab.research.google.com/assets/colab-badge.svg\" alt=\"Open In Colab\"/></a>"
      ]
    },
    {
      "cell_type": "markdown",
      "metadata": {
        "id": "wd7tzHSzwXyg"
      },
      "source": [
        "#### Google Colab Implementation @ Ramendra Kumar"
      ]
    },
    {
      "cell_type": "code",
      "metadata": {
        "id": "byDDRpP0PdGy"
      },
      "source": [
        "#Keras library for CIFAR-10 dataset\n",
        "from keras.datasets import cifar10\n",
        "\n",
        "#Downloading the CIFAR dataset\n",
        "(x_train,y_train),(x_test,y_test)=cifar10.load_data()"
      ],
      "execution_count": null,
      "outputs": []
    },
    {
      "cell_type": "markdown",
      "metadata": {
        "id": "tp0Qk3csP8_R"
      },
      "source": [
        "### Importign Remaining Library"
      ]
    },
    {
      "cell_type": "code",
      "metadata": {
        "id": "yu18yY_aP7eo"
      },
      "source": [
        "#importing other required libraries\n",
        "import numpy as np\n",
        "import pandas as pd\n",
        "from sklearn.utils.multiclass import unique_labels\n",
        "import os\n",
        "import matplotlib.pyplot as plt\n",
        "import matplotlib.image as mpimg\n",
        "import seaborn as sns\n",
        "import itertools\n",
        "from sklearn.model_selection import train_test_split\n",
        "from sklearn.metrics import confusion_matrix\n",
        "from keras import Sequential\n",
        "from keras.applications import VGG19 #For Transfer Learning\n",
        "from keras.preprocessing.image import ImageDataGenerator\n",
        "from keras.optimizers import SGD,Adam\n",
        "from keras.callbacks import ReduceLROnPlateau\n",
        "from keras.layers import Flatten,Dense,BatchNormalization,Activation,Dropout\n",
        "from keras.utils import to_categorical"
      ],
      "execution_count": null,
      "outputs": []
    },
    {
      "cell_type": "markdown",
      "metadata": {
        "id": "XVkrmYZ0QLfr"
      },
      "source": [
        "### Here, we will split the downloaded dataset into training, test and validation sets."
      ]
    },
    {
      "cell_type": "code",
      "metadata": {
        "id": "wTNJTYYfQK4s"
      },
      "source": [
        "#defining training and test sets\n",
        "x_train,x_val,y_train,y_val=train_test_split(x_train,y_train,test_size=.3)"
      ],
      "execution_count": null,
      "outputs": []
    },
    {
      "cell_type": "code",
      "metadata": {
        "id": "l5xYBixZQSzB",
        "outputId": "08294228-a69c-4025-98f0-4e5d8248f16a",
        "colab": {
          "base_uri": "https://localhost:8080/"
        }
      },
      "source": [
        "#Dimension of the dataset\n",
        "print((x_train.shape,y_train.shape))\n",
        "print((x_val.shape,y_val.shape))\n",
        "print((x_test.shape,y_test.shape))\n"
      ],
      "execution_count": null,
      "outputs": [
        {
          "output_type": "stream",
          "text": [
            "((35000, 32, 32, 3), (35000, 1))\n",
            "((15000, 32, 32, 3), (15000, 1))\n",
            "((10000, 32, 32, 3), (10000, 1))\n"
          ],
          "name": "stdout"
        }
      ]
    },
    {
      "cell_type": "markdown",
      "metadata": {
        "id": "JentNi3gQfXw"
      },
      "source": [
        "#### We need to do one hot encoding here because we have 10 classes and we should expect the shape[1] of y_train,y_val and y_test to change from 1 to 10"
      ]
    },
    {
      "cell_type": "code",
      "metadata": {
        "id": "hRFlxe_HQhPx"
      },
      "source": [
        "#One Hot Encoding\n",
        "y_train=to_categorical(y_train)\n",
        "y_val=to_categorical(y_val)\n",
        "y_test=to_categorical(y_test)"
      ],
      "execution_count": null,
      "outputs": []
    },
    {
      "cell_type": "code",
      "metadata": {
        "id": "MzxwMuEMQqFA",
        "outputId": "2e8316ea-2f5f-4730-d5e7-3f3f7c4b7804",
        "colab": {
          "base_uri": "https://localhost:8080/"
        }
      },
      "source": [
        "#Verifying the dimension after one hot encoding\n",
        "print((x_train.shape,y_train.shape))\n",
        "print((x_val.shape,y_val.shape))\n",
        "print((x_test.shape,y_test.shape))\n"
      ],
      "execution_count": null,
      "outputs": [
        {
          "output_type": "stream",
          "text": [
            "((35000, 32, 32, 3), (35000, 10))\n",
            "((15000, 32, 32, 3), (15000, 10))\n",
            "((10000, 32, 32, 3), (10000, 10))\n"
          ],
          "name": "stdout"
        }
      ]
    },
    {
      "cell_type": "markdown",
      "metadata": {
        "id": "mSbsxWfTQ0NZ"
      },
      "source": [
        "### Data Augmentation"
      ]
    },
    {
      "cell_type": "code",
      "metadata": {
        "id": "10KmnNWFQyo9"
      },
      "source": [
        "#Image Data Augmentation\n",
        "train_generator = ImageDataGenerator(rotation_range=2, horizontal_flip=True, zoom_range=.1)\n",
        "\n",
        "val_generator = ImageDataGenerator(rotation_range=2, horizontal_flip=True, zoom_range=.1)\n",
        "\n",
        "test_generator = ImageDataGenerator(rotation_range=2, horizontal_flip= True, zoom_range=.1)\n",
        "\n",
        "#Fitting the augmentation defined above to the data\n",
        "train_generator.fit(x_train)\n",
        "val_generator.fit(x_val)\n",
        "test_generator.fit(x_test)"
      ],
      "execution_count": null,
      "outputs": []
    },
    {
      "cell_type": "code",
      "metadata": {
        "id": "xb4-ZsY8Q8Fp"
      },
      "source": [
        "#Learning Rate Annealer\n",
        "lrr= ReduceLROnPlateau(monitor='accuracy', factor=.01, patience=3, min_lr=1e-5)"
      ],
      "execution_count": null,
      "outputs": []
    },
    {
      "cell_type": "markdown",
      "metadata": {
        "id": "JDOKbS7FRFzz"
      },
      "source": [
        "### Defining VGG19 as a Deep Convolutional Neural Network"
      ]
    },
    {
      "cell_type": "code",
      "metadata": {
        "id": "kwwgKKxZRCfC"
      },
      "source": [
        "#Defining the VGG Convolutional Neural Net\n",
        "base_model = VGG19(include_top = False, weights = 'imagenet', input_shape = (32,32,3), classes = y_train.shape[1])"
      ],
      "execution_count": null,
      "outputs": []
    },
    {
      "cell_type": "markdown",
      "metadata": {
        "id": "toxNTqv_RShT"
      },
      "source": [
        "#### Now, we will define VGG19 as a deep learning architecture. For this purpose, it will be defined as a Keras Sequential model with several dense layers. "
      ]
    },
    {
      "cell_type": "code",
      "metadata": {
        "id": "Y0ggUQMoRMoS"
      },
      "source": [
        "#Adding the final layers to the above base models where the actual classification is done in the dense layers\n",
        "model= Sequential()\n",
        "model.add(base_model) \n",
        "model.add(Flatten()) "
      ],
      "execution_count": null,
      "outputs": []
    },
    {
      "cell_type": "code",
      "metadata": {
        "id": "r38HhDBERhqi",
        "outputId": "f5659d12-233d-452b-aea5-e006027e1765",
        "colab": {
          "base_uri": "https://localhost:8080/"
        }
      },
      "source": [
        "#Model summary\n",
        "model.summary()"
      ],
      "execution_count": null,
      "outputs": [
        {
          "output_type": "stream",
          "text": [
            "Model: \"sequential\"\n",
            "_________________________________________________________________\n",
            "Layer (type)                 Output Shape              Param #   \n",
            "=================================================================\n",
            "vgg19 (Functional)           (None, 1, 1, 512)         20024384  \n",
            "_________________________________________________________________\n",
            "flatten (Flatten)            (None, 512)               0         \n",
            "=================================================================\n",
            "Total params: 20,024,384\n",
            "Trainable params: 20,024,384\n",
            "Non-trainable params: 0\n",
            "_________________________________________________________________\n"
          ],
          "name": "stdout"
        }
      ]
    },
    {
      "cell_type": "code",
      "metadata": {
        "id": "qUCnb6LJRs56",
        "outputId": "89537583-e40a-4b33-ef6d-a411d99cf63b",
        "colab": {
          "base_uri": "https://localhost:8080/"
        }
      },
      "source": [
        "#Adding the Dense layers along with activation and batch normalization\n",
        "model.add(Dense(1024,activation=('relu'),input_dim=512))\n",
        "model.add(Dense(512,activation=('relu'))) \n",
        "model.add(Dense(256,activation=('relu'))) \n",
        "model.add(Dense(128,activation=('relu')))\n",
        "#model.add(Dropout(.3))\n",
        "model.add(Dense(10,activation=('softmax'))) \n",
        "\n",
        "#Checking the final model summary\n",
        "model.summary()"
      ],
      "execution_count": null,
      "outputs": [
        {
          "output_type": "stream",
          "text": [
            "Model: \"sequential\"\n",
            "_________________________________________________________________\n",
            "Layer (type)                 Output Shape              Param #   \n",
            "=================================================================\n",
            "vgg19 (Functional)           (None, 1, 1, 512)         20024384  \n",
            "_________________________________________________________________\n",
            "flatten (Flatten)            (None, 512)               0         \n",
            "_________________________________________________________________\n",
            "dense (Dense)                (None, 1024)              525312    \n",
            "_________________________________________________________________\n",
            "dense_1 (Dense)              (None, 512)               524800    \n",
            "_________________________________________________________________\n",
            "dense_2 (Dense)              (None, 256)               131328    \n",
            "_________________________________________________________________\n",
            "dense_3 (Dense)              (None, 128)               32896     \n",
            "_________________________________________________________________\n",
            "dense_4 (Dense)              (None, 10)                1290      \n",
            "=================================================================\n",
            "Total params: 21,240,010\n",
            "Trainable params: 21,240,010\n",
            "Non-trainable params: 0\n",
            "_________________________________________________________________\n"
          ],
          "name": "stdout"
        }
      ]
    },
    {
      "cell_type": "markdown",
      "metadata": {
        "id": "4QcpZ2L-UBPA"
      },
      "source": [
        "#### As we have defined our model, now we need to initialize the hyperparameters that are required to train the model and then finally, we will compile our model."
      ]
    },
    {
      "cell_type": "code",
      "metadata": {
        "id": "hNQDwnSdUC3v"
      },
      "source": [
        "# Initializing the hyperparameters\n",
        "batch_size= 100\n",
        "epochs=50\n",
        "learn_rate=.001\n",
        "sgd=SGD(lr=learn_rate,momentum=.9,nesterov=False)\n",
        "adam=Adam(lr=learn_rate, beta_1=0.9, beta_2=0.999, epsilon=None, decay=0.0, amsgrad=False)\n",
        "model.compile(optimizer=sgd,loss='categorical_crossentropy',metrics=['accuracy'])"
      ],
      "execution_count": null,
      "outputs": []
    },
    {
      "cell_type": "markdown",
      "metadata": {
        "id": "fstZz0HmURiC"
      },
      "source": [
        "### Training the model"
      ]
    },
    {
      "cell_type": "code",
      "metadata": {
        "id": "7zZzeka9UJub",
        "outputId": "cee3c893-f5cc-4419-e3c3-c53166e14867",
        "colab": {
          "base_uri": "https://localhost:8080/"
        }
      },
      "source": [
        "#Training the model it may take around 25 to 30 minute on GPU \n",
        "model.fit(train_generator.flow(x_train, y_train, batch_size= batch_size),\n",
        "                    epochs = epochs, steps_per_epoch = x_train.shape[0]//batch_size, \n",
        "                    validation_data = val_generator.flow(x_val, y_val, batch_size = batch_size),\n",
        "                    validation_steps = 100, callbacks=[lrr], verbose = 1)\n"
      ],
      "execution_count": null,
      "outputs": [
        {
          "output_type": "stream",
          "text": [
            "Epoch 1/50\n",
            "350/350 [==============================] - 26s 73ms/step - loss: 1.7504 - accuracy: 0.3487 - val_loss: 1.3199 - val_accuracy: 0.5261\n",
            "Epoch 2/50\n",
            "350/350 [==============================] - 25s 73ms/step - loss: 1.0134 - accuracy: 0.6461 - val_loss: 0.8328 - val_accuracy: 0.7106\n",
            "Epoch 3/50\n",
            "350/350 [==============================] - 25s 73ms/step - loss: 0.7674 - accuracy: 0.7371 - val_loss: 0.6932 - val_accuracy: 0.7655\n",
            "Epoch 4/50\n",
            "350/350 [==============================] - 26s 73ms/step - loss: 0.6422 - accuracy: 0.7808 - val_loss: 0.6885 - val_accuracy: 0.7723\n",
            "Epoch 5/50\n",
            "350/350 [==============================] - 25s 73ms/step - loss: 0.5638 - accuracy: 0.8072 - val_loss: 0.6421 - val_accuracy: 0.7877\n",
            "Epoch 6/50\n",
            "350/350 [==============================] - 25s 72ms/step - loss: 0.4989 - accuracy: 0.8294 - val_loss: 0.5939 - val_accuracy: 0.8024\n",
            "Epoch 7/50\n",
            "350/350 [==============================] - 25s 72ms/step - loss: 0.4560 - accuracy: 0.8437 - val_loss: 0.5770 - val_accuracy: 0.8090\n",
            "Epoch 8/50\n",
            "350/350 [==============================] - 25s 72ms/step - loss: 0.4115 - accuracy: 0.8594 - val_loss: 0.5568 - val_accuracy: 0.8165\n",
            "Epoch 9/50\n",
            "350/350 [==============================] - 25s 72ms/step - loss: 0.3693 - accuracy: 0.8721 - val_loss: 0.5809 - val_accuracy: 0.8099\n",
            "Epoch 10/50\n",
            "350/350 [==============================] - 25s 72ms/step - loss: 0.3362 - accuracy: 0.8851 - val_loss: 0.5909 - val_accuracy: 0.8042\n",
            "Epoch 11/50\n",
            "350/350 [==============================] - 25s 72ms/step - loss: 0.3095 - accuracy: 0.8930 - val_loss: 0.5725 - val_accuracy: 0.8169\n",
            "Epoch 12/50\n",
            "350/350 [==============================] - 25s 72ms/step - loss: 0.2770 - accuracy: 0.9041 - val_loss: 0.5291 - val_accuracy: 0.8366\n",
            "Epoch 13/50\n",
            "350/350 [==============================] - 25s 72ms/step - loss: 0.2542 - accuracy: 0.9130 - val_loss: 0.5515 - val_accuracy: 0.8336\n",
            "Epoch 14/50\n",
            "350/350 [==============================] - 25s 73ms/step - loss: 0.2321 - accuracy: 0.9187 - val_loss: 0.5505 - val_accuracy: 0.8346\n",
            "Epoch 15/50\n",
            "350/350 [==============================] - 25s 72ms/step - loss: 0.2039 - accuracy: 0.9298 - val_loss: 0.5395 - val_accuracy: 0.8407\n",
            "Epoch 16/50\n",
            "350/350 [==============================] - 25s 72ms/step - loss: 0.1777 - accuracy: 0.9383 - val_loss: 0.5676 - val_accuracy: 0.8397\n",
            "Epoch 17/50\n",
            "350/350 [==============================] - 25s 73ms/step - loss: 0.1759 - accuracy: 0.9395 - val_loss: 0.5848 - val_accuracy: 0.8370\n",
            "Epoch 18/50\n",
            "350/350 [==============================] - 25s 72ms/step - loss: 0.1494 - accuracy: 0.9480 - val_loss: 0.5963 - val_accuracy: 0.8371\n",
            "Epoch 19/50\n",
            "350/350 [==============================] - 25s 72ms/step - loss: 0.1367 - accuracy: 0.9533 - val_loss: 0.6181 - val_accuracy: 0.8360\n",
            "Epoch 20/50\n",
            "350/350 [==============================] - 25s 73ms/step - loss: 0.1251 - accuracy: 0.9573 - val_loss: 0.6110 - val_accuracy: 0.8415\n",
            "Epoch 21/50\n",
            "350/350 [==============================] - 25s 72ms/step - loss: 0.1135 - accuracy: 0.9595 - val_loss: 0.6484 - val_accuracy: 0.8314\n",
            "Epoch 22/50\n",
            "350/350 [==============================] - 25s 72ms/step - loss: 0.1127 - accuracy: 0.9611 - val_loss: 0.6913 - val_accuracy: 0.8272\n",
            "Epoch 23/50\n",
            "350/350 [==============================] - 25s 73ms/step - loss: 0.0977 - accuracy: 0.9669 - val_loss: 0.6743 - val_accuracy: 0.8338\n",
            "Epoch 24/50\n",
            "350/350 [==============================] - 25s 72ms/step - loss: 0.0923 - accuracy: 0.9682 - val_loss: 0.7056 - val_accuracy: 0.8318\n",
            "Epoch 25/50\n",
            "350/350 [==============================] - 25s 72ms/step - loss: 0.0851 - accuracy: 0.9700 - val_loss: 0.6714 - val_accuracy: 0.8375\n",
            "Epoch 26/50\n",
            "350/350 [==============================] - 25s 72ms/step - loss: 0.0758 - accuracy: 0.9744 - val_loss: 0.6380 - val_accuracy: 0.8442\n",
            "Epoch 27/50\n",
            "350/350 [==============================] - 25s 72ms/step - loss: 0.0769 - accuracy: 0.9730 - val_loss: 0.6696 - val_accuracy: 0.8415\n",
            "Epoch 28/50\n",
            "350/350 [==============================] - 25s 72ms/step - loss: 0.0723 - accuracy: 0.9763 - val_loss: 0.7145 - val_accuracy: 0.8412\n",
            "Epoch 29/50\n",
            "350/350 [==============================] - 25s 72ms/step - loss: 0.0657 - accuracy: 0.9775 - val_loss: 0.6963 - val_accuracy: 0.8422\n",
            "Epoch 30/50\n",
            "350/350 [==============================] - 25s 72ms/step - loss: 0.0504 - accuracy: 0.9826 - val_loss: 0.7403 - val_accuracy: 0.8452\n",
            "Epoch 31/50\n",
            "350/350 [==============================] - 26s 73ms/step - loss: 0.0542 - accuracy: 0.9821 - val_loss: 0.7972 - val_accuracy: 0.8386\n",
            "Epoch 32/50\n",
            "350/350 [==============================] - 25s 72ms/step - loss: 0.0567 - accuracy: 0.9813 - val_loss: 0.6903 - val_accuracy: 0.8497\n",
            "Epoch 33/50\n",
            "350/350 [==============================] - 25s 72ms/step - loss: 0.0490 - accuracy: 0.9829 - val_loss: 0.7409 - val_accuracy: 0.8377\n",
            "Epoch 34/50\n",
            "350/350 [==============================] - 25s 72ms/step - loss: 0.0479 - accuracy: 0.9836 - val_loss: 0.7445 - val_accuracy: 0.8429\n",
            "Epoch 35/50\n",
            "350/350 [==============================] - 25s 72ms/step - loss: 0.0437 - accuracy: 0.9851 - val_loss: 0.7608 - val_accuracy: 0.8395\n",
            "Epoch 36/50\n",
            "350/350 [==============================] - 25s 72ms/step - loss: 0.0434 - accuracy: 0.9854 - val_loss: 0.6958 - val_accuracy: 0.8564\n",
            "Epoch 37/50\n",
            "350/350 [==============================] - 25s 72ms/step - loss: 0.0379 - accuracy: 0.9875 - val_loss: 0.7091 - val_accuracy: 0.8455\n",
            "Epoch 38/50\n",
            "350/350 [==============================] - 25s 72ms/step - loss: 0.0382 - accuracy: 0.9876 - val_loss: 0.7706 - val_accuracy: 0.8408\n",
            "Epoch 39/50\n",
            "350/350 [==============================] - 25s 72ms/step - loss: 0.0351 - accuracy: 0.9882 - val_loss: 0.7521 - val_accuracy: 0.8510\n",
            "Epoch 40/50\n",
            "350/350 [==============================] - 25s 72ms/step - loss: 0.0320 - accuracy: 0.9894 - val_loss: 0.7591 - val_accuracy: 0.8441\n",
            "Epoch 41/50\n",
            "350/350 [==============================] - 25s 72ms/step - loss: 0.0290 - accuracy: 0.9904 - val_loss: 0.8302 - val_accuracy: 0.8493\n",
            "Epoch 42/50\n",
            "350/350 [==============================] - 25s 72ms/step - loss: 0.0280 - accuracy: 0.9904 - val_loss: 0.8640 - val_accuracy: 0.8427\n",
            "Epoch 43/50\n",
            "350/350 [==============================] - 26s 73ms/step - loss: 0.0364 - accuracy: 0.9873 - val_loss: 0.7577 - val_accuracy: 0.8448\n",
            "Epoch 44/50\n",
            "350/350 [==============================] - 25s 72ms/step - loss: 0.0242 - accuracy: 0.9920 - val_loss: 0.8610 - val_accuracy: 0.8462\n",
            "Epoch 45/50\n",
            "350/350 [==============================] - 25s 72ms/step - loss: 0.0278 - accuracy: 0.9905 - val_loss: 0.8583 - val_accuracy: 0.8418\n",
            "Epoch 46/50\n",
            "350/350 [==============================] - 25s 72ms/step - loss: 0.0261 - accuracy: 0.9909 - val_loss: 0.7766 - val_accuracy: 0.8517\n",
            "Epoch 47/50\n",
            "350/350 [==============================] - 25s 72ms/step - loss: 0.0201 - accuracy: 0.9931 - val_loss: 0.8107 - val_accuracy: 0.8535\n",
            "Epoch 48/50\n",
            "350/350 [==============================] - 25s 72ms/step - loss: 0.0249 - accuracy: 0.9912 - val_loss: 0.8069 - val_accuracy: 0.8553\n",
            "Epoch 49/50\n",
            "350/350 [==============================] - 25s 72ms/step - loss: 0.0236 - accuracy: 0.9928 - val_loss: 0.8131 - val_accuracy: 0.8528\n",
            "Epoch 50/50\n",
            "350/350 [==============================] - 25s 72ms/step - loss: 0.0224 - accuracy: 0.9932 - val_loss: 0.8125 - val_accuracy: 0.8468\n"
          ],
          "name": "stdout"
        },
        {
          "output_type": "execute_result",
          "data": {
            "text/plain": [
              "<tensorflow.python.keras.callbacks.History at 0x7fc990085128>"
            ]
          },
          "metadata": {
            "tags": []
          },
          "execution_count": 14
        }
      ]
    },
    {
      "cell_type": "markdown",
      "metadata": {
        "id": "j3gYmOESUwlR"
      },
      "source": [
        "#### Plotting the traingin and validataion loss and accuracy"
      ]
    },
    {
      "cell_type": "code",
      "metadata": {
        "id": "TC2jN6c6UJ8C",
        "outputId": "0b34bafb-6e68-43a9-9bcf-4f0ad4ca1bc6",
        "colab": {
          "base_uri": "https://localhost:8080/",
          "height": 282
        }
      },
      "source": [
        "#Plotting the training and validation loss and accuracy\n",
        "f,ax=plt.subplots(2,1) \n",
        "\n",
        "#Loss\n",
        "ax[0].plot(model.history.history['loss'],color='b',label='Training Loss')\n",
        "ax[0].plot(model.history.history['val_loss'],color='r',label='Validation Loss')\n",
        "\n",
        "#Accuracy\n",
        "ax[1].plot(model.history.history['accuracy'],color='b',label='Training  Accuracy')\n",
        "ax[1].plot(model.history.history['val_accuracy'],color='r',label='Validation Accuracy')"
      ],
      "execution_count": null,
      "outputs": [
        {
          "output_type": "execute_result",
          "data": {
            "text/plain": [
              "[<matplotlib.lines.Line2D at 0x7fc93664cb00>]"
            ]
          },
          "metadata": {
            "tags": []
          },
          "execution_count": 15
        },
        {
          "output_type": "display_data",
          "data": {
            "image/png": "[encoded data removed]",
            "text/plain": [
              "<Figure size 432x288 with 2 Axes>"
            ]
          },
          "metadata": {
            "tags": [],
            "needs_background": "light"
          }
        }
      ]
    },
    {
      "cell_type": "markdown",
      "metadata": {
        "id": "CQPL1j6dVCOr"
      },
      "source": [
        "### Predictions"
      ]
    },
    {
      "cell_type": "code",
      "metadata": {
        "id": "qXcDw4UmVBTr"
      },
      "source": [
        "#Making prediction\n",
        "y_pred=np.argmax(model.predict(x_test),axis=-1)\n",
        "y_true=np.argmax(y_test,axis=1)"
      ],
      "execution_count": null,
      "outputs": []
    },
    {
      "cell_type": "code",
      "metadata": {
        "id": "wXLLFH2Ho2MQ",
        "outputId": "d5be7e18-991e-4252-8fb3-064a7b923f1c",
        "colab": {
          "base_uri": "https://localhost:8080/"
        }
      },
      "source": [
        "y_pred"
      ],
      "execution_count": null,
      "outputs": [
        {
          "output_type": "execute_result",
          "data": {
            "text/plain": [
              "array([5, 8, 8, ..., 5, 1, 7])"
            ]
          },
          "metadata": {
            "tags": []
          },
          "execution_count": 18
        }
      ]
    },
    {
      "cell_type": "code",
      "metadata": {
        "id": "iqIiFwx9pIuW",
        "outputId": "0b34fe9c-301a-4c0e-9455-bcb4a459ef65",
        "colab": {
          "base_uri": "https://localhost:8080/"
        }
      },
      "source": [
        "y_true"
      ],
      "execution_count": null,
      "outputs": [
        {
          "output_type": "execute_result",
          "data": {
            "text/plain": [
              "array([3, 8, 8, ..., 5, 1, 7])"
            ]
          },
          "metadata": {
            "tags": []
          },
          "execution_count": 19
        }
      ]
    },
    {
      "cell_type": "markdown",
      "metadata": {
        "id": "ddPCb7XcqVgs"
      },
      "source": [
        "###  Confusion Matrix"
      ]
    },
    {
      "cell_type": "code",
      "metadata": {
        "id": "VfR6j5nWqUO-",
        "outputId": "a069f9f2-1c57-414e-ddb0-704482a685e8",
        "colab": {
          "base_uri": "https://localhost:8080/"
        }
      },
      "source": [
        "conf_mx=confusion_matrix(y_true, y_pred)\n",
        "conf_mx"
      ],
      "execution_count": null,
      "outputs": [
        {
          "output_type": "execute_result",
          "data": {
            "text/plain": [
              "array([[878,  13,  22,  16,  16,   0,  14,  10,  17,  14],\n",
              "       [  8, 945,   0,   3,   0,   5,   1,   0,   4,  34],\n",
              "       [ 25,   1, 819,  27,  25,  33,  48,  15,   2,   5],\n",
              "       [  8,   4,  31, 609,  44, 191,  71,  22,   4,  16],\n",
              "       [  5,   4,  41,  30, 834,  19,  36,  26,   0,   5],\n",
              "       [  3,   3,  19,  82,  27, 818,  18,  25,   1,   4],\n",
              "       [  5,   5,  22,  27,  10,   9, 914,   1,   1,   6],\n",
              "       [  9,   5,  10,  19,  40,  28,   3, 876,   0,  10],\n",
              "       [ 38,  30,   4,   6,   4,   2,   2,   0, 882,  32],\n",
              "       [ 12,  68,   4,   4,   0,   2,   1,   0,   3, 906]])"
            ]
          },
          "metadata": {
            "tags": []
          },
          "execution_count": 21
        }
      ]
    },
    {
      "cell_type": "code",
      "metadata": {
        "id": "P_bHgr9Mq0ks"
      },
      "source": [
        "## Normalization of confustion Matrix\n",
        "row_sums = conf_mx.sum(axis=1, keepdims=True)\n",
        "norm_conf_mx = conf_mx / row_sums\n",
        "np.fill_diagonal(norm_conf_mx, 0)"
      ],
      "execution_count": null,
      "outputs": []
    },
    {
      "cell_type": "code",
      "metadata": {
        "id": "QeCpH0v6sTjk",
        "outputId": "a5a282c0-aaf3-46c7-850f-e16cb14ac9da",
        "colab": {
          "base_uri": "https://localhost:8080/",
          "height": 637
        }
      },
      "source": [
        "import seaborn as sns\n",
        "plt.figure(figsize=(10,10))\n",
        "#Defining the class labels\n",
        "class_names=['airplane', 'automobile', 'bird', 'cat', 'deer', 'dog', 'frog', 'horse', 'ship', 'truck']\n",
        "x_label, y_label=class_names,class_names\n",
        "sns.heatmap(norm_conf_mx, annot=True, fmt=\".3f\",xticklabels=x_label, yticklabels=y_label)\n",
        "plt.show()"
      ],
      "execution_count": null,
      "outputs": [
        {
          "output_type": "display_data",
          "data": {
            "image/png": "[encoded data removed]",
            "text/plain": [
              "<Figure size 720x720 with 2 Axes>"
            ]
          },
          "metadata": {
            "tags": [],
            "needs_background": "light"
          }
        }
      ]
    }
  ]
}